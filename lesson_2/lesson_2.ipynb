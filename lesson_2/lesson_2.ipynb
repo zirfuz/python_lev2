{
 "cells": [
  {
   "cell_type": "markdown",
   "metadata": {},
   "source": [
    "1. Написать скрипт, осуществляющий выборку определенных данных из файлов info_1.txt, info_2.txt, info_3.txt и формирующий новый «отчетный» файл в формате CSV."
   ]
  },
  {
   "cell_type": "code",
   "execution_count": 1,
   "metadata": {},
   "outputs": [],
   "source": [
    "import re\n",
    "import chardet"
   ]
  },
  {
   "cell_type": "code",
   "execution_count": 2,
   "metadata": {},
   "outputs": [],
   "source": [
    "def encoding(file_path):\n",
    "    with open(file_path, 'rb') as file:\n",
    "        info = chardet.detect(file.readline(8))\n",
    "        return info['encoding']\n",
    "    return None"
   ]
  },
  {
   "cell_type": "code",
   "execution_count": 3,
   "metadata": {},
   "outputs": [],
   "source": [
    "def extract(str, param):\n",
    "    p = re.compile(f'{param}: *.+')\n",
    "    pp = p.search(str)\n",
    "    return pp.group(0).split(':')[1].lstrip()"
   ]
  },
  {
   "cell_type": "code",
   "execution_count": 4,
   "metadata": {},
   "outputs": [],
   "source": [
    "def get_params(file_path):\n",
    "    with open(file_path, encoding=encoding(file_path)) as file:\n",
    "        str = file.read()\n",
    "        os_prod = extract(str, '»зготовитель системы')\n",
    "        os_name = extract(str, 'Ќазвание ќ—')\n",
    "        os_code = extract(str, 'од продукта')\n",
    "        os_type = extract(str, '“ип системы')\n",
    "        return os_prod, os_name, os_code, os_type"
   ]
  },
  {
   "cell_type": "code",
   "execution_count": 5,
   "metadata": {},
   "outputs": [],
   "source": [
    "def get_params_lists(files_paths):\n",
    "    os_prod_list = []\n",
    "    os_name_list = []\n",
    "    os_code_list = []\n",
    "    os_type_list = []\n",
    "    \n",
    "    for file_path in files_paths:\n",
    "        os_prod, os_name, os_code, os_type = get_params(file_path)\n",
    "        os_prod_list.append(os_prod)\n",
    "        os_name_list.append(os_name)\n",
    "        os_code_list.append(os_code)\n",
    "        os_type_list.append(os_type)\n",
    "    \n",
    "    return os_prod_list, os_name_list, os_code_list, os_type_list"
   ]
  },
  {
   "cell_type": "code",
   "execution_count": 6,
   "metadata": {},
   "outputs": [],
   "source": [
    "def get_data():\n",
    "    main_data = [[''], ['Изготовитель системы'], ['Название ОС'], ['Код продукта'], ['Тип системы']]\n",
    "    files_paths = ['info_1.txt', 'info_2.txt', 'info_3.txt']\n",
    "    get_params_lists(files_paths)\n",
    "    os_prod_list, os_name_list, os_code_list, os_type_list = get_params_lists(files_paths)\n",
    "    \n",
    "    for i in range(len(os_prod_list)):\n",
    "        main_data[0].append(files_paths[i])\n",
    "        main_data[1].append(os_prod_list[i])\n",
    "        main_data[2].append(os_name_list[i])\n",
    "        main_data[3].append(os_code_list[i])\n",
    "        main_data[4].append(os_type_list[i])\n",
    "        \n",
    "    return main_data"
   ]
  },
  {
   "cell_type": "code",
   "execution_count": 7,
   "metadata": {},
   "outputs": [
    {
     "data": {
      "text/plain": [
       "[['', 'info_1.txt', 'info_2.txt', 'info_3.txt'],\n",
       " ['Изготовитель системы', 'LENOVO', 'ACER', 'DELL'],\n",
       " ['Название ОС',\n",
       "  'Microsoft Windows 7 ѕрофессиональна€ ',\n",
       "  'Microsoft Windows 10 Professional',\n",
       "  'Microsoft Windows 8.1 Professional'],\n",
       " ['Код продукта',\n",
       "  '00971-OEM-1982661-00231',\n",
       "  '00971-OEM-1982661-00231',\n",
       "  '00971-OEM-1982661-00231'],\n",
       " ['Тип системы', 'x64-based PC', 'x64-based PC', 'x86-based PC']]"
      ]
     },
     "execution_count": 7,
     "metadata": {},
     "output_type": "execute_result"
    }
   ],
   "source": [
    "get_data()"
   ]
  },
  {
   "cell_type": "code",
   "execution_count": 8,
   "metadata": {},
   "outputs": [],
   "source": [
    "# main_data = get_data()\n",
    "\n",
    "# enc = encoding(files_paths[0])\n",
    "# file = open('main_data', \"w\", encoding=enc)\n",
    "\n",
    "# for lst in main_data:\n",
    "#     print(lst)\n",
    "    \n",
    "# # for i in range(len(os_prod_list)):\n",
    "# #     print(f'{main_data[i]:15}', end='', file=file)\n",
    "# #     print(file=file)\n",
    "\n",
    "# file.close()"
   ]
  },
  {
   "cell_type": "code",
   "execution_count": 9,
   "metadata": {},
   "outputs": [],
   "source": [
    "def get_data():\n",
    "    main_data = ['', 'Изготовитель системы', 'Название ОС', 'Код продукта', 'Тип системы']\n",
    "    files_paths = ['info_1.txt', 'info_2.txt', 'info_3.txt']\n",
    "    get_params_lists(files_paths)\n",
    "    \n",
    "    enc = encoding(files_paths[0])\n",
    "    file = open('main_data', \"w\", encoding=enc)\n",
    "    \n",
    "    \n",
    "    print(f'{main_data[0]:15}', end='', file=file)\n",
    "    print(f'{main_data[1]:25}', end='', file=file)\n",
    "    print(f'{main_data[2]:40}', end='', file=file)\n",
    "    print(f'{main_data[3]:30}', end='', file=file)\n",
    "    print(f'{main_data[4]:20}', end='', file=file)\n",
    "    print(file=file)\n",
    "    \n",
    "    os_prod_list, os_name_list, os_code_list, os_type_list = get_params_lists(files_paths)\n",
    "    for i in range(len(os_prod_list)):\n",
    "        print(f'{files_paths[i]:15}', end='', file=file)\n",
    "        print(f'{os_prod_list[i]:25}', end='', file=file)\n",
    "        print(f'{os_name_list[i]:40}', end='', file=file)\n",
    "        print(f'{os_code_list[i]:30}', end='', file=file)\n",
    "        print(f'{os_type_list[i]:20}', end='', file=file)\n",
    "        print(file=file)\n",
    "        \n",
    "    file.close()"
   ]
  },
  {
   "cell_type": "code",
   "execution_count": 10,
   "metadata": {},
   "outputs": [],
   "source": [
    "import csv\n",
    "\n",
    "def get_data_csv():\n",
    "    main_data = ['', 'Изготовитель системы', 'Название ОС', 'Код продукта', 'Тип системы']\n",
    "    files_paths = ['info_1.txt', 'info_2.txt', 'info_3.txt']\n",
    "    get_params_lists(files_paths)\n",
    "    \n",
    "    enc = encoding(files_paths[0])\n",
    "    with open('main_data.csv', 'w', newline='', encoding=enc) as f_n:\n",
    "        f_n_writer = csv.writer(f_n)\n",
    "        f_n_writer.writerow(main_data)\n",
    "        os_prod_list, os_name_list, os_code_list, os_type_list = get_params_lists(files_paths)\n",
    "        for i in range(len(os_prod_list)):\n",
    "            f_n_writer.writerow([files_paths[i],\n",
    "                                 os_prod_list[i],\n",
    "                                 os_name_list[i],\n",
    "                                 os_code_list[i],\n",
    "                                 os_type_list[i]])"
   ]
  },
  {
   "cell_type": "code",
   "execution_count": 11,
   "metadata": {},
   "outputs": [],
   "source": [
    "get_data()\n",
    "get_data_csv()"
   ]
  },
  {
   "cell_type": "markdown",
   "metadata": {},
   "source": [
    "---\n",
    "2. Есть файл orders в формате JSON с информацией о заказах. Написать скрипт, автоматизирующий его заполнение данными."
   ]
  },
  {
   "cell_type": "code",
   "execution_count": 12,
   "metadata": {},
   "outputs": [],
   "source": [
    "import json\n",
    "\n",
    "dict_to_json = {\n",
    "    \"item\": \"10203\",\n",
    "    \"quantity\": \"3\",\n",
    "    \"price\": \"99.99$\",\n",
    "    \"buyer\": \"Noname\",\n",
    "    \"date\": \"11.12.2019\"\n",
    "    }\n",
    "\n",
    "def write_order_to_json(file_path):\n",
    "    data = None\n",
    "    with open(file_path, 'r') as f_n:\n",
    "        data = json.load(f_n)\n",
    "    with open(file_path, 'w') as f_n:\n",
    "        data['orders'].append(dict_to_json)\n",
    "        json.dump(data, f_n, indent=4)"
   ]
  },
  {
   "cell_type": "code",
   "execution_count": 13,
   "metadata": {},
   "outputs": [],
   "source": [
    "write_order_to_json('orders.json')"
   ]
  },
  {
   "cell_type": "markdown",
   "metadata": {},
   "source": [
    "---\n",
    "3. Написать скрипт, автоматизирующий сохранение данных в файле YAML-формата."
   ]
  },
  {
   "cell_type": "code",
   "execution_count": 14,
   "metadata": {},
   "outputs": [],
   "source": [
    "import yaml\n",
    "\n",
    "dict_to_yaml = {\n",
    "    \"list\": [1,2,3],\n",
    "    \"int\": 5,\n",
    "    \"dict\": {\"1€\": 1, \"2€\": 2},\n",
    "    }"
   ]
  },
  {
   "cell_type": "code",
   "execution_count": 15,
   "metadata": {},
   "outputs": [],
   "source": [
    "with open('file.yaml', 'w') as f_n:\n",
    "    yaml.dump(dict_to_yaml, f_n, default_flow_style=False, allow_unicode=True)"
   ]
  },
  {
   "cell_type": "code",
   "execution_count": 16,
   "metadata": {},
   "outputs": [
    {
     "name": "stdout",
     "output_type": "stream",
     "text": [
      "{'dict': {'1€': 1, '2€': 2}, 'int': 5, 'list': [1, 2, 3]}\n"
     ]
    }
   ],
   "source": [
    "with open('file.yaml') as f_n:\n",
    "    dict_from_yaml = yaml.load(f_n)\n",
    "    print(dict_from_yaml)"
   ]
  },
  {
   "cell_type": "code",
   "execution_count": 17,
   "metadata": {},
   "outputs": [
    {
     "data": {
      "text/plain": [
       "True"
      ]
     },
     "execution_count": 17,
     "metadata": {},
     "output_type": "execute_result"
    }
   ],
   "source": [
    "dict_to_yaml == dict_from_yaml"
   ]
  },
  {
   "cell_type": "code",
   "execution_count": null,
   "metadata": {},
   "outputs": [],
   "source": []
  }
 ],
 "metadata": {
  "kernelspec": {
   "display_name": "Python 3",
   "language": "python",
   "name": "python3"
  },
  "language_info": {
   "codemirror_mode": {
    "name": "ipython",
    "version": 3
   },
   "file_extension": ".py",
   "mimetype": "text/x-python",
   "name": "python",
   "nbconvert_exporter": "python",
   "pygments_lexer": "ipython3",
   "version": "3.7.1"
  }
 },
 "nbformat": 4,
 "nbformat_minor": 2
}
